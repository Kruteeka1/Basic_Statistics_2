{
 "cells": [
  {
   "cell_type": "markdown",
   "id": "b9cc24ef-ed22-4b40-b430-11cc2cb2e3d9",
   "metadata": {},
   "source": [
    "A total of 15 print-heads were randomly selected and tested until failure. The durability of each print-head (in millions of characters) was recorded as follows:\n",
    "1.13, 1.55, 1.43, 0.92, 1.25, 1.36, 1.32, 0.85, 1.07, 1.48, 1.20, 1.33, 1.18, 1.22, 1.29\n",
    "Assignment Tasks\n",
    "a. Build 99% Confidence Interval Using Sample Standard Deviation\n",
    "Assuming the sample is representative of the population, construct a 99% confidence interval for the mean number of characters printed before the print-head fails using the sample standard deviation. Explain the steps you take and the rationale behind using the t-distribution for this task.\n",
    "\n"
   ]
  },
  {
   "cell_type": "markdown",
   "id": "f4ac05b3-8e75-4e3b-8964-54d0d9e776e3",
   "metadata": {},
   "source": [
    "Solution"
   ]
  },
  {
   "cell_type": "code",
   "execution_count": 2,
   "id": "6cca7684-7c93-4802-89fe-2a8f1aff46c7",
   "metadata": {},
   "outputs": [],
   "source": [
    "import numpy as np\n",
    "import scipy.stats as stats"
   ]
  },
  {
   "cell_type": "code",
   "execution_count": 4,
   "id": "825af1a7-7d19-41f1-86b9-dd140e17b761",
   "metadata": {},
   "outputs": [],
   "source": [
    "data=[1.13, 1.55, 1.43, 0.92, 1.25, 1.36, 1.32, 0.85, 1.07, 1.48, 1.20, 1.33, 1.18, 1.22, 1.29]"
   ]
  },
  {
   "cell_type": "code",
   "execution_count": 8,
   "id": "e452c867-4066-440f-a934-13f8435314f0",
   "metadata": {},
   "outputs": [
    {
     "data": {
      "text/plain": [
       "15"
      ]
     },
     "execution_count": 8,
     "metadata": {},
     "output_type": "execute_result"
    }
   ],
   "source": [
    "n= len(data)\n",
    "n"
   ]
  },
  {
   "cell_type": "code",
   "execution_count": 44,
   "id": "0666e649-e334-4c36-adcb-094f2941a3ff",
   "metadata": {},
   "outputs": [
    {
     "data": {
      "text/plain": [
       "0.19316412956959936"
      ]
     },
     "execution_count": 44,
     "metadata": {},
     "output_type": "execute_result"
    }
   ],
   "source": [
    "sample_mean=np.mean(data)\n",
    "sample_std= np.std(data, ddof=1)# Use ddof=1 for sample standard deviation\n",
    "sample_std\n"
   ]
  },
  {
   "cell_type": "code",
   "execution_count": 42,
   "id": "bafc1d9f-2a54-4a68-93ef-d2ae4472dc18",
   "metadata": {},
   "outputs": [
    {
     "data": {
      "text/plain": [
       "1.2386666666666666"
      ]
     },
     "execution_count": 42,
     "metadata": {},
     "output_type": "execute_result"
    }
   ],
   "source": [
    "sample_mean"
   ]
  },
  {
   "cell_type": "code",
   "execution_count": 26,
   "id": "d7556cfa-8837-4365-9923-ed5522633a18",
   "metadata": {},
   "outputs": [],
   "source": [
    "# Confidence level and degrees of freedom\n",
    "confidence_level = 0.99\n",
    "alpha = 1 - confidence_level\n",
    "dof = n - 1"
   ]
  },
  {
   "cell_type": "code",
   "execution_count": 30,
   "id": "6b879841-7bc1-4602-a206-1b30adfbee6d",
   "metadata": {},
   "outputs": [],
   "source": [
    "# t critical value\n",
    "t_critical = stats.t.ppf(1 - alpha/2, dof)"
   ]
  },
  {
   "cell_type": "markdown",
   "id": "a72337ad-8fe6-4d46-9027-e739e33da1be",
   "metadata": {},
   "source": [
    "# Margin of error\n",
    "margin_of_error = t_critical * (sample_std / np.sqrt(n))"
   ]
  },
  {
   "cell_type": "code",
   "execution_count": 34,
   "id": "1e098989-45c7-4fba-bac6-6220c3e64e40",
   "metadata": {},
   "outputs": [
    {
     "name": "stdout",
     "output_type": "stream",
     "text": [
      "99% Confidence Interval for the Mean Durability: (1.0902, 1.3871) million characters\n"
     ]
    }
   ],
   "source": [
    "# Confidence interval\n",
    "ci_lower = sample_mean - margin_of_error\n",
    "ci_upper = sample_mean + margin_of_error\n",
    "\n",
    "print(f\"99% Confidence Interval for the Mean Durability: ({ci_lower:.4f}, {ci_upper:.4f}) million characters\")\n"
   ]
  },
  {
   "cell_type": "markdown",
   "id": "b6ab30a1-c5ee-4b84-ac82-0df9a49a73b0",
   "metadata": {},
   "source": [
    "b. Build 99% Confidence Interval Using Known Population Standard Deviation\n",
    "If it were known that the population standard deviation is 0.2 million characters, construct a 99% confidence interval for the mean number of characters printed before failure."
   ]
  },
  {
   "cell_type": "markdown",
   "id": "31d8ba04-a9fd-452c-b712-a64bf85917de",
   "metadata": {},
   "source": [
    "Solution"
   ]
  },
  {
   "cell_type": "code",
   "execution_count": 38,
   "id": "d893ebae-a9fa-4430-a6bd-2dbd11d47d51",
   "metadata": {},
   "outputs": [],
   "source": [
    "## importing packages\n",
    "import scipy.stats as stats\n",
    "import numpy as np\n"
   ]
  },
  {
   "cell_type": "code",
   "execution_count": 46,
   "id": "5ae2d975-d6f3-4254-b3a9-21551eb2f7bb",
   "metadata": {},
   "outputs": [],
   "source": [
    "# Given sample data\n",
    "sample_mean = 9.5\n",
    "sample_std = 0.3\n",
    "population_std = 0.2\n",
    "n = 25\n",
    "confidence = 0.99"
   ]
  },
  {
   "cell_type": "code",
   "execution_count": 48,
   "id": "78d2c021-4480-47a0-800f-12de6a98b166",
   "metadata": {},
   "outputs": [],
   "source": [
    "# Part 1: Using sample standard deviation (t-distribution)\n",
    "df = n - 1\n",
    "t_crit = stats.t.ppf((1 + confidence) / 2, df)\n",
    "margin_error_t = t_crit * (sample_std / np.sqrt(n))\n",
    "ci_t = (sample_mean - margin_error_t, sample_mean + margin_error_t)"
   ]
  },
  {
   "cell_type": "code",
   "execution_count": 50,
   "id": "6a865629-9670-480b-b3ea-0e4ea1c207ee",
   "metadata": {},
   "outputs": [
    {
     "data": {
      "text/plain": [
       "((9.332183629713631, 9.667816370286369),\n",
       " (9.396966827858044, 9.603033172141956))"
      ]
     },
     "execution_count": 50,
     "metadata": {},
     "output_type": "execute_result"
    }
   ],
   "source": [
    "# Part b: Using population standard deviation (z-distribution)\n",
    "z_crit = stats.norm.ppf((1 + confidence) / 2)\n",
    "margin_error_z = z_crit * (population_std / np.sqrt(n))\n",
    "ci_z = (sample_mean - margin_error_z, sample_mean + margin_error_z)\n",
    "\n",
    "# Output both intervals\n",
    "ci_t, ci_z\n"
   ]
  },
  {
   "cell_type": "code",
   "execution_count": null,
   "id": "2027803e-4b33-423b-89d8-b2acdd4ae2e4",
   "metadata": {},
   "outputs": [],
   "source": []
  }
 ],
 "metadata": {
  "kernelspec": {
   "display_name": "Python [conda env:base] *",
   "language": "python",
   "name": "conda-base-py"
  },
  "language_info": {
   "codemirror_mode": {
    "name": "ipython",
    "version": 3
   },
   "file_extension": ".py",
   "mimetype": "text/x-python",
   "name": "python",
   "nbconvert_exporter": "python",
   "pygments_lexer": "ipython3",
   "version": "3.12.7"
  }
 },
 "nbformat": 4,
 "nbformat_minor": 5
}
